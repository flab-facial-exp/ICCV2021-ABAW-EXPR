{
 "cells": [
  {
   "cell_type": "code",
   "execution_count": null,
   "metadata": {},
   "outputs": [],
   "source": [
    "import os\n",
    "from pathlib import Path\n",
    "import func_proc_filepath as mFILE\n",
    "import func_proc_image as mIMAGE\n",
    "import func_openface as mOF\n",
    "import cv2\n",
    "from statistics import mean\n",
    "\n",
    "import warnings\n",
    "warnings.filterwarnings('ignore')"
   ]
  },
  {
   "cell_type": "code",
   "execution_count": null,
   "metadata": {},
   "outputs": [],
   "source": [
    "def main():\n",
    "    # root folder\n",
    "    dir_root = str(Path(Path().resolve()).parent)\n",
    "\n",
    "    # input: folder path including original images\n",
    "    dir_img = dir_root + \"\\\\dataset\\\\expw_images\\\\corrected\"\n",
    "    \n",
    "    # option: folder path of openface\n",
    "    dir_ofe = dir_root + \"\\\\ofe220\"\n",
    "\n",
    "    # output: folder path\n",
    "    dir_out = dir_root + \"\\\\dataset\\\\expw_images\\\\au\"\n",
    "    if os.path.isdir(dir_out) == False:\n",
    "        os.makedirs(dir_out)\n",
    "    \n",
    "    files_list = mFILE.search_files(dir_img, valid_names=[\".jpg\"], invalid_names=[\"wuert\"], ext=None, recursive=False)\n",
    "    log = \"number of files: {0}\".format(len(files_list))\n",
    "    print(log)\n",
    "    \n",
    "    max_cnt = len(files_list)\n",
    "    for i in range(len(files_list)):\n",
    "    #for i in range(83690,max_cnt):\n",
    "        fp = files_list[i]\n",
    "        name = os.path.splitext(os.path.basename(fp))[0]\n",
    "    \n",
    "        outpath = mOF.func_image_to_au(dir_ofe, dir_out, fp)\n",
    "        \n",
    "        log = \"{0}/{1}, {2} is finished\".format(i, max_cnt-1, name)\n",
    "        print(log)\n",
    "    "
   ]
  },
  {
   "cell_type": "code",
   "execution_count": null,
   "metadata": {
    "scrolled": true
   },
   "outputs": [],
   "source": [
    "if __name__ == \"__main__\":\n",
    "    main()"
   ]
  },
  {
   "cell_type": "code",
   "execution_count": null,
   "metadata": {},
   "outputs": [],
   "source": []
  },
  {
   "cell_type": "code",
   "execution_count": null,
   "metadata": {},
   "outputs": [],
   "source": []
  }
 ],
 "metadata": {
  "kernelspec": {
   "display_name": "Python 3",
   "language": "python",
   "name": "python3"
  },
  "language_info": {
   "codemirror_mode": {
    "name": "ipython",
    "version": 3
   },
   "file_extension": ".py",
   "mimetype": "text/x-python",
   "name": "python",
   "nbconvert_exporter": "python",
   "pygments_lexer": "ipython3",
   "version": "3.7.6"
  }
 },
 "nbformat": 4,
 "nbformat_minor": 4
}

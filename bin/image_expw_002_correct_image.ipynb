{
 "cells": [
  {
   "cell_type": "code",
   "execution_count": null,
   "metadata": {},
   "outputs": [],
   "source": [
    "import os\n",
    "from pathlib import Path\n",
    "import func_proc_filepath as mFILE\n",
    "import func_proc_image as mIMAGE\n",
    "import cv2\n",
    "from statistics import mean\n",
    "\n",
    "import warnings\n",
    "warnings.filterwarnings('ignore')"
   ]
  },
  {
   "cell_type": "code",
   "execution_count": null,
   "metadata": {},
   "outputs": [],
   "source": [
    "def main():\n",
    "    # root folder\n",
    "    dir_root = str(Path(Path().resolve()).parent)\n",
    "\n",
    "    # input: folder path including original images\n",
    "    dir_img = dir_root + \"\\\\dataset\\\\expw_images\\\\cropped\"\n",
    "\n",
    "    # output: folder path\n",
    "    dir_out = dir_root + \"\\\\dataset\\\\expw_images\\\\corrected\"\n",
    "    if os.path.isdir(dir_out) == False:\n",
    "        os.makedirs(dir_out)\n",
    "    \n",
    "    files_list = mFILE.search_files(dir_img, valid_names=[\".jpg\"], invalid_names=[\"wuert\"], ext=None, recursive=False)\n",
    "    log = \"number of files: {0}\".format(len(files_list))\n",
    "    print(log)\n",
    "    \n",
    "    # set hsv parameter\n",
    "    h_value = 14\n",
    "    s_value = 105\n",
    "    v_value = 165\n",
    "    \n",
    "    max_cnt = len(files_list)\n",
    "    \n",
    "    for i in range(len(files_list)):\n",
    "    #for i in range(200):\n",
    "        fp = files_list[i]\n",
    "        name = os.path.splitext(os.path.basename(fp))[0]\n",
    "        \n",
    "        img_src = cv2.imread(fp)\n",
    "        \n",
    "        #img = cv2.cvtColor(img_src, cv2.COLOR_BGR2RGB)\n",
    "        #display_cv_image(img_src, format='.png')\n",
    "        \n",
    "        cnter_img = img_src[60:240, 60:240]        \n",
    "        hsv = cv2.cvtColor(cnter_img, cv2.COLOR_BGR2HSV_FULL)\n",
    "        h_mean_tmp = hsv[:,:,0].mean()\n",
    "        s_mean_tmp = hsv[:,:,1].mean()\n",
    "        v_mean_tmp = hsv[:,:,2].mean()\n",
    "        \n",
    "        img = mIMAGE.crop_image(img_src)\n",
    "        hsv2 = cv2.cvtColor(img, cv2.COLOR_BGR2HSV_FULL)\n",
    "        \n",
    "        # hsv\n",
    "        hsv2[:,:,0] = h_value\n",
    "        hsv2 = mIMAGE.changedS(hsv2, 1, round(s_value - s_mean_tmp))\n",
    "        hsv2 = mIMAGE.changedV(hsv2, 1, round(v_value - v_mean_tmp))\n",
    "        # contrast\n",
    "        # histogram\n",
    "        hist = cv2.calcHist([hsv2],[2],None,[256],[0,256]) \n",
    "        clahe = cv2.createCLAHE(clipLimit=1,tileGridSize=(4,4))\n",
    "        hsv2[:,:,2] = clahe.apply(hsv2[:,:,2]) \n",
    "        \n",
    "        img_out = cv2.cvtColor(hsv2,cv2.COLOR_HSV2BGR_FULL) # 色空間をHSVからBGRに変換\n",
    "        img_out = mIMAGE.fill_image(img_out, 300, 300)\n",
    "        \n",
    "        if i <= 20:\n",
    "            mIMAGE.display_cv_image(img_src, format='.png')\n",
    "            mIMAGE.display_cv_image(img_out, format='.png')\n",
    "        \n",
    "        file_out = dir_out + \"\\\\\" + name + \".jpg\"\n",
    "        cv2.imwrite(file_out, img_out)\n",
    "        \n",
    "        log = \"{0}/{1}, {2} is finished\".format(i, max_cnt-1, name)\n",
    "        print(log)\n",
    "    "
   ]
  },
  {
   "cell_type": "code",
   "execution_count": null,
   "metadata": {
    "scrolled": true
   },
   "outputs": [],
   "source": [
    "if __name__ == \"__main__\":\n",
    "    main()"
   ]
  },
  {
   "cell_type": "code",
   "execution_count": null,
   "metadata": {},
   "outputs": [],
   "source": []
  },
  {
   "cell_type": "code",
   "execution_count": null,
   "metadata": {},
   "outputs": [],
   "source": []
  }
 ],
 "metadata": {
  "kernelspec": {
   "display_name": "Python 3",
   "language": "python",
   "name": "python3"
  },
  "language_info": {
   "codemirror_mode": {
    "name": "ipython",
    "version": 3
   },
   "file_extension": ".py",
   "mimetype": "text/x-python",
   "name": "python",
   "nbconvert_exporter": "python",
   "pygments_lexer": "ipython3",
   "version": "3.7.6"
  }
 },
 "nbformat": 4,
 "nbformat_minor": 4
}

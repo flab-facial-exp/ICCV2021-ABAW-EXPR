{
 "cells": [
  {
   "cell_type": "code",
   "execution_count": null,
   "metadata": {},
   "outputs": [],
   "source": [
    "import numpy as np\n",
    "import pandas as pd\n",
    "\n",
    "import os\n",
    "from pathlib import Path\n",
    "import func_proc_filepath as mFILE\n",
    "import func_proc_image as mIMAGE\n",
    "import func_openface as mOF\n",
    "import cv2\n",
    "from statistics import mean\n",
    "\n",
    "from tqdm import tqdm\n",
    "\n",
    "import warnings\n",
    "warnings.filterwarnings('ignore')"
   ]
  },
  {
   "cell_type": "code",
   "execution_count": null,
   "metadata": {},
   "outputs": [],
   "source": [
    "def main():\n",
    "    # root folder\n",
    "    dir_root = str(Path(Path().resolve()).parent)\n",
    "\n",
    "    # input: folder path including original images\n",
    "    dir_img = dir_root + \"\\\\dataset\\\\aff2_images\\\\corrected\"\n",
    "    \n",
    "    # option: folder path of openface\n",
    "    dir_ofe = dir_root + \"\\\\ofe220\"\n",
    "\n",
    "    # output: folder path\n",
    "    dir_out = dir_root + \"\\\\dataset\\\\aff2_images\\\\au\"\n",
    "    if os.path.isdir(dir_out) == False:\n",
    "        os.makedirs(dir_out)\n",
    "    \n",
    "    # search folder and files\n",
    "    dir_list = mFILE.search_files(dir_img, valid_names=[\"\"], invalid_names=[\"err\",\".txt\"], ext=None, recursive=False)\n",
    "    \n",
    "    cnt = 0\n",
    "    max_cnt = len(dir_list)\n",
    "    log = \"folder length: {0}\".format(len(dir_list))\n",
    "    print(log)\n",
    "    \n",
    "    for dirp in tqdm(dir_list):\n",
    "        \n",
    "        files_list = mFILE.search_files(dirp, valid_names=[\".jpg\"], invalid_names=[\"wuert\"], ext=None, recursive=False)\n",
    "        frame = [int(os.path.splitext(os.path.basename(x))[0]) for x in files_list]\n",
    "        # os.path.splitext(os.path.basename(x))[0]\n",
    "        #log = \"number of files: {0}\".format(len(files_list))\n",
    "        #print(log)\n",
    "        dname = os.path.basename(dirp)\n",
    "        \n",
    "        #file_out = dir_out + \"\\\\\" + dname + \".csv\"\n",
    "            \n",
    "        #log = \"{0}/{1} is start, length {2}\".format(cnt, max_cnt-1, len(files_list))\n",
    "        #print(log)\n",
    "        cnt = cnt + 1\n",
    "        \n",
    "        outpath = mOF.func_images_to_au(dir_ofe, dir_out, dirp)\n",
    "        \n",
    "        df = pd.read_csv(outpath)\n",
    "        df[\"frame\"] = frame\n",
    "        df.to_csv(outpath, index=False)\n",
    "    "
   ]
  },
  {
   "cell_type": "code",
   "execution_count": null,
   "metadata": {
    "scrolled": true
   },
   "outputs": [],
   "source": [
    "if __name__ == \"__main__\":\n",
    "    main()"
   ]
  },
  {
   "cell_type": "code",
   "execution_count": null,
   "metadata": {},
   "outputs": [],
   "source": []
  },
  {
   "cell_type": "code",
   "execution_count": null,
   "metadata": {},
   "outputs": [],
   "source": []
  }
 ],
 "metadata": {
  "kernelspec": {
   "display_name": "Python 3",
   "language": "python",
   "name": "python3"
  },
  "language_info": {
   "codemirror_mode": {
    "name": "ipython",
    "version": 3
   },
   "file_extension": ".py",
   "mimetype": "text/x-python",
   "name": "python",
   "nbconvert_exporter": "python",
   "pygments_lexer": "ipython3",
   "version": "3.7.7"
  }
 },
 "nbformat": 4,
 "nbformat_minor": 4
}

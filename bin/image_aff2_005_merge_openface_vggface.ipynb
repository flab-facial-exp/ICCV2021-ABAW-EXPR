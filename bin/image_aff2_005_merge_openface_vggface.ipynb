{
 "cells": [
  {
   "cell_type": "code",
   "execution_count": null,
   "metadata": {},
   "outputs": [],
   "source": [
    "import pickle\n",
    "pickle.HIGHEST_PROTOCOL = 4\n",
    "\n",
    "import numpy as np\n",
    "import pandas as pd\n",
    "\n",
    "import os\n",
    "from pathlib import Path\n",
    "import func_proc_filepath as mFILE\n",
    "from tqdm import tqdm\n",
    "from IPython.display import display\n",
    "\n",
    "import warnings\n",
    "warnings.filterwarnings('ignore')"
   ]
  },
  {
   "cell_type": "code",
   "execution_count": null,
   "metadata": {},
   "outputs": [],
   "source": [
    "def main():\n",
    "    # root folder\n",
    "    dir_root = str(Path(Path().resolve()).parent)\n",
    "\n",
    "    # input: folder path including original images\n",
    "    dir_au = dir_root + \"\\\\dataset\\\\aff2_images\\\\au\"\n",
    "    dir_vgg = dir_root + \"\\\\dataset\\\\aff2_images\\\\vggface\"\n",
    "\n",
    "    # output: folder path\n",
    "    dir_out = dir_root + \"\\\\dataset\\\\aff2_images\\\\dataset\"\n",
    "    if os.path.isdir(dir_out) == False:\n",
    "        os.makedirs(dir_out)\n",
    "        \n",
    "    files_list = mFILE.search_files(dir_vgg, valid_names=[\".csv\"], invalid_names=[\"wuert\"], ext=None, recursive=False)\n",
    "    log = \"number of files: {0}\".format(len(files_list))\n",
    "    print(log)\n",
    "    \n",
    "    max_cnt = len(files_list)\n",
    "    #max_cnt = 10\n",
    "    for i in tqdm(range(max_cnt)):\n",
    "        fp = files_list[i]\n",
    "        name = os.path.splitext(os.path.basename(fp))[0]\n",
    "\n",
    "        fp_au = dir_au + \"\\\\\" + name + \".csv\"\n",
    "        if os.path.exists(fp_au) == False:\n",
    "            log = \"{0}/{1}, {2} is **None**\".format(i, max_cnt-1, name)\n",
    "            print(log)\n",
    "            continue\n",
    "\n",
    "        df_au = pd.read_csv(fp_au)\n",
    "        df_au = df_au.loc[:,df_au.columns.str.contains(\"frame|AU|pose|gaze_angle\")]\n",
    "        for col in df_au.columns:\n",
    "            df_au[col]=pd.to_numeric(df_au[col],errors='coerce')\n",
    "        #df_au = df_au.astype({'a': 'float32', 'c': 'int8'})\n",
    "\n",
    "        df_vgg = pd.read_csv(fp)\n",
    "        df_vgg.columns = \"vgg-\" + df_vgg.columns\n",
    "        df_vgg.columns = df_vgg.columns.str.replace(\"vgg-frame\",\"frame\")\n",
    "        df_vgg = df_vgg.astype(\"float32\")\n",
    "\n",
    "        df_merge = pd.merge(df_au, df_vgg, on=\"frame\")\n",
    "        \n",
    "        file_out = dir_out + \"\\\\\" + name + \".h5\"\n",
    "        df_merge.to_hdf(file_out, key='key', mode='w', complevel=5, complib='lzo')\n",
    "\n",
    "        #log = \"{0}/{1}, {2} is finished\".format(i, max_cnt-1, name)\n",
    "        #print(log)\n",
    "\n",
    "    #df_out = pd.read_hdf(file_out)\n",
    "    #display(df_out)\n",
    "    log = \"finished\"\n",
    "    print(log)"
   ]
  },
  {
   "cell_type": "code",
   "execution_count": null,
   "metadata": {},
   "outputs": [],
   "source": [
    "if __name__ == \"__main__\":\n",
    "    main()"
   ]
  },
  {
   "cell_type": "code",
   "execution_count": null,
   "metadata": {},
   "outputs": [],
   "source": []
  }
 ],
 "metadata": {
  "kernelspec": {
   "display_name": "Python 3",
   "language": "python",
   "name": "python3"
  },
  "language_info": {
   "codemirror_mode": {
    "name": "ipython",
    "version": 3
   },
   "file_extension": ".py",
   "mimetype": "text/x-python",
   "name": "python",
   "nbconvert_exporter": "python",
   "pygments_lexer": "ipython3",
   "version": "3.7.7"
  }
 },
 "nbformat": 4,
 "nbformat_minor": 4
}

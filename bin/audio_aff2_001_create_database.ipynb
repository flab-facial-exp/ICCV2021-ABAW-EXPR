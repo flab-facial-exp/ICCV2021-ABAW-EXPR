{
 "cells": [
  {
   "cell_type": "code",
   "execution_count": null,
   "metadata": {},
   "outputs": [],
   "source": [
    "import numpy as np\n",
    "import pandas as pd\n",
    "\n",
    "import os\n",
    "from pathlib import Path\n",
    "import func_proc_filepath as mFILE\n",
    "from statistics import mean\n",
    "\n",
    "from tqdm import tqdm\n",
    "from IPython.display import display\n",
    "\n",
    "import warnings\n",
    "warnings.filterwarnings('ignore')"
   ]
  },
  {
   "cell_type": "code",
   "execution_count": null,
   "metadata": {},
   "outputs": [],
   "source": [
    "def main():\n",
    "    # root folder\n",
    "    dir_root = str(Path(Path().resolve()).parent)\n",
    "\n",
    "    # input: folder path including original images\n",
    "    dir_img = dir_root + \"\\\\dataset\\\\aff2_audio\\\\pca_dl_audio_feature_of_abaw\"\n",
    "    \n",
    "    # output: folder path\n",
    "    dir_out = dir_root + \"\\\\dataset\\\\aff2_audio\\\\dataset\"\n",
    "    if os.path.isdir(dir_out) == False:\n",
    "        os.makedirs(dir_out)\n",
    "    \n",
    "    # search folder and files\n",
    "    dir_list = mFILE.search_files(dir_img, valid_names=[\"\"], invalid_names=[\"err\",\".txt\"], ext=None, recursive=False)\n",
    "    #dir_list = dir_list[24:]\n",
    "    \n",
    "    cnt = 0\n",
    "    max_cnt = len(dir_list)\n",
    "    log = \"folder length: {0}\".format(len(dir_list))\n",
    "    print(log)\n",
    "    \n",
    "    #dir_list = dir_list[0:1]\n",
    "    \n",
    "    for dirp in dir_list:\n",
    "        \n",
    "        files_list = mFILE.search_files(dirp, valid_names=[\".txt\"], invalid_names=[\"wuert\"], ext=None, recursive=False)\n",
    "        #log = \"number of files: {0}\".format(len(files_list))\n",
    "        #print(log)\n",
    "        dname = os.path.basename(dirp)\n",
    "        \n",
    "        print(dname)\n",
    "        \n",
    "        file_out = dir_out + \"\\\\\" + dname + \".h5\"\n",
    "            \n",
    "        log = \"{0}/{1} is start, length {2}\".format(cnt, max_cnt-1, len(files_list))\n",
    "        print(log)\n",
    "        cnt = cnt + 1\n",
    "        \n",
    "        df_list = []\n",
    "        \n",
    "        for i in tqdm(range(len(files_list))):\n",
    "        #for i in range(30):\n",
    "            fp = files_list[i]\n",
    "            name = os.path.splitext(os.path.basename(fp))[0]\n",
    "            \n",
    "            df = pd.read_csv(fp, header=None).T\n",
    "            \n",
    "            tmp = df.columns.values.astype(\"str\")\n",
    "            tmp = [\"audio-\" + x for x in tmp]\n",
    "            \n",
    "            df.columns = tmp\n",
    "            df[\"frame\"] = int(name)-1\n",
    "            \n",
    "            df_list.append(df)\n",
    "            \n",
    "        df_out = pd.concat([x for x in df_list], axis=0)\n",
    "        \n",
    "        #df_out.to_csv(file_out, index=False)\n",
    "        df_out.to_hdf(file_out, key='key', mode='w', complevel=5, complib='lzo')\n",
    "        \n",
    "    #display(df_out)"
   ]
  },
  {
   "cell_type": "code",
   "execution_count": null,
   "metadata": {
    "scrolled": true
   },
   "outputs": [],
   "source": [
    "if __name__ == \"__main__\":\n",
    "    main()"
   ]
  },
  {
   "cell_type": "code",
   "execution_count": null,
   "metadata": {},
   "outputs": [],
   "source": []
  },
  {
   "cell_type": "code",
   "execution_count": null,
   "metadata": {},
   "outputs": [],
   "source": []
  }
 ],
 "metadata": {
  "kernelspec": {
   "display_name": "Python 3",
   "language": "python",
   "name": "python3"
  },
  "language_info": {
   "codemirror_mode": {
    "name": "ipython",
    "version": 3
   },
   "file_extension": ".py",
   "mimetype": "text/x-python",
   "name": "python",
   "nbconvert_exporter": "python",
   "pygments_lexer": "ipython3",
   "version": "3.7.7"
  }
 },
 "nbformat": 4,
 "nbformat_minor": 4
}
